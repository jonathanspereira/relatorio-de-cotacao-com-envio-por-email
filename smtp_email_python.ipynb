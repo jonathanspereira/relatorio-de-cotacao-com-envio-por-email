{
 "cells": [
  {
   "cell_type": "code",
   "execution_count": 23,
   "metadata": {},
   "outputs": [],
   "source": [
    "#IMPORTANDO BIBLIOTECAS:\n",
    "import yfinance\n",
    "import smtplib\n",
    "from email.mime.multipart import MIMEMultipart\n",
    "from email.mime.text import MIMEText\n",
    "from email.mime.base import MIMEBase\n",
    "import locale\n",
    "locale.setlocale(locale.LC_MONETARY, 'pt_br.UTF-8')\n",
    "\n",
    "#CONFIGURAÇÕES:\n",
    "email_user = 'seu_email'\n",
    "email_password = 'sua_senha'\n"
   ]
  },
  {
   "cell_type": "code",
   "execution_count": 24,
   "metadata": {},
   "outputs": [
    {
     "name": "stdout",
     "output_type": "stream",
     "text": [
      "R$ 4,55\n",
      "R$ 13,23\n",
      "R$ 12,00\n"
     ]
    }
   ],
   "source": [
    "#BUSCANDO AÇÃO:\n",
    "ticker = input('Digite o código da ação: ')\n",
    "dados = yfinance.Ticker(ticker + \".SA\")\n",
    "dados.history()\n",
    "\n",
    "#PERÍODO HISTÓTICO:\n",
    "periodo = input ('Digite o Período: (ANO:y ,MÊS:mo ,DIA:d)')\n",
    "tabela = dados.history(periodo)\n",
    "tabela\n",
    "\n",
    "#ESCOLHER APENAS A COLUNA DE FECHAMENTO:\n",
    "fechamento = tabela.Close\n",
    "fechamento\n",
    "\n",
    "#GERANDO AS ESTATÍSTICAS:\n",
    "min = fechamento.min() \n",
    "max = fechamento.max()\n",
    "atu = fechamento[-1]\n",
    "\n",
    "#CONVERTENDO O VALOR EM R$:\n",
    "minima = locale.currency(min)\n",
    "maxima = locale.currency(max)\n",
    "atual = locale.currency(atu)\n",
    "\n",
    "print(minima)\n",
    "print(maxima)\n",
    "print(atual)"
   ]
  },
  {
   "cell_type": "code",
   "execution_count": 25,
   "metadata": {},
   "outputs": [
    {
     "name": "stdout",
     "output_type": "stream",
     "text": [
      "E-mail Enviado com Sucesso!\n"
     ]
    }
   ],
   "source": [
    "#CONFIGURANDO O SERVIDOR SMTP:\n",
    "host = \"smtp-mail.outlook.com\" #Digita - Nome do servidor SMTP\n",
    "port = \"587\" #Digite - Porta SMTP\n",
    "login = email_user\n",
    "senha = email_password\n",
    "server = smtplib.SMTP(host,port)\n",
    "server.ehlo()\n",
    "server.starttls()\n",
    "server.login(login,senha)\n",
    "\n",
    "#CONFIGURANDO O CORPO DO E-MAIL EM HTML:\n",
    "corpo = \"\"\"\n",
    "  <!DOCTYPE html>\n",
    "  <html lang=\"pt-br\">   \n",
    "  <head>\n",
    "    <meta charset=\"UTF-8\">\n",
    "       <title>Cotações</title>\n",
    "  </head>\n",
    "  <body>\n",
    "    <div>\n",
    "      <p>Olá,</p>\n",
    "      <p>Segue dados da ação \"\"\"+str(ticker.upper())+\"\"\":</p>\n",
    "      <p>Cotação Minima \"\"\"+str(minima)+\"\"\"</p>\n",
    "      <p>Cotação Maxima \"\"\"+str(maxima)+\"\"\"</p>\n",
    "      <p>Cotação Atual \"\"\"+str(atual)+\"\"\"</p>\n",
    "    </div>\n",
    "  </body>\n",
    "   </html>    \n",
    "\"\"\"\n",
    "\n",
    "#MONTANDO O E-MAIL:\n",
    "email_msg = MIMEMultipart()\n",
    "email_msg['From'] = login\n",
    "email_msg['to'] = input(\"Enviar para:\")\n",
    "email_msg['subject'] = \"Ultimas cotações\"\n",
    "email_msg.attach(MIMEText(corpo,'html'))\n",
    "\n",
    "\n",
    "\n",
    "##ENVIANDO EMAIL:\n",
    "server.sendmail(email_msg['From'],email_msg['To'],email_msg.as_string())\n",
    "server.quit()\n",
    "\n",
    "print(\"E-mail Enviado com Sucesso!\")\n"
   ]
  }
 ],
 "metadata": {
  "kernelspec": {
   "display_name": "base",
   "language": "python",
   "name": "python3"
  },
  "language_info": {
   "codemirror_mode": {
    "name": "ipython",
    "version": 3
   },
   "file_extension": ".py",
   "mimetype": "text/x-python",
   "name": "python",
   "nbconvert_exporter": "python",
   "pygments_lexer": "ipython3",
   "version": "3.10.9"
  },
  "orig_nbformat": 4
 },
 "nbformat": 4,
 "nbformat_minor": 2
}
